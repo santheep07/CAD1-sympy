{
 "cells": [
  {
   "cell_type": "code",
   "execution_count": 171,
   "metadata": {},
   "outputs": [],
   "source": [
    "import numpy as np \n",
    "import math\n",
    "from sympy import * \n",
    "from sympy.interactive.printing import init_printing\n",
    "init_printing(use_unicode=True)"
   ]
  },
  {
   "cell_type": "code",
   "execution_count": 172,
   "metadata": {},
   "outputs": [
    {
     "data": {
      "image/png": "[encoded data removed]",
      "text/latex": [
       "$$\\left\\{-3 - \\sqrt[4]{17} \\sqrt{2} \\cos{\\left (\\frac{1}{2} \\operatorname{atan}{\\left (\\frac{1}{4} \\right )} \\right )} - \\sqrt[4]{17} \\sqrt{2} i \\sin{\\left (\\frac{1}{2} \\operatorname{atan}{\\left (\\frac{1}{4} \\right )} \\right )}, -3 + \\sqrt[4]{17} \\sqrt{2} \\cos{\\left (\\frac{1}{2} \\operatorname{atan}{\\left (\\frac{1}{4} \\right )} \\right )} + \\sqrt[4]{17} \\sqrt{2} i \\sin{\\left (\\frac{1}{2} \\operatorname{atan}{\\left (\\frac{1}{4} \\right )} \\right )}\\right\\}$$"
      ],
      "text/plain": [
       "⎧     4 ____       ⎛atan(1/4)⎞   4 ____         ⎛atan(1/4)⎞       4 ____      \n",
       "⎨-3 - ╲╱ 17 ⋅√2⋅cos⎜─────────⎟ - ╲╱ 17 ⋅√2⋅ⅈ⋅sin⎜─────────⎟, -3 + ╲╱ 17 ⋅√2⋅co\n",
       "⎩                  ⎝    2    ⎠                  ⎝    2    ⎠                   \n",
       "\n",
       " ⎛atan(1/4)⎞   4 ____         ⎛atan(1/4)⎞⎫\n",
       "s⎜─────────⎟ + ╲╱ 17 ⋅√2⋅ⅈ⋅sin⎜─────────⎟⎬\n",
       " ⎝    2    ⎠                  ⎝    2    ⎠⎭"
      ]
     },
     "execution_count": 172,
     "metadata": {},
     "output_type": "execute_result"
    }
   ],
   "source": [
    "#1.1.1\n",
    "\n",
    "z=symbols('z')\n",
    "sym.solveset(z**2+6*z+(1-2*sym.I),z)"
   ]
  },
  {
   "cell_type": "code",
   "execution_count": 173,
   "metadata": {},
   "outputs": [
    {
     "data": {
      "image/png": "[encoded data removed]",
      "text/latex": [
       "$$\\left\\{-3 - \\frac{i}{2}, -3 + \\frac{i}{2}\\right\\}$$"
      ],
      "text/plain": [
       "⎧     ⅈ       ⅈ⎫\n",
       "⎨-3 - ─, -3 + ─⎬\n",
       "⎩     2       2⎭"
      ]
     },
     "execution_count": 173,
     "metadata": {},
     "output_type": "execute_result"
    }
   ],
   "source": [
    "#1.1.2\n",
    "\n",
    "sym.solveset(4*z**2+24*z+37,z)"
   ]
  },
  {
   "cell_type": "code",
   "execution_count": 174,
   "metadata": {},
   "outputs": [
    {
     "data": {
      "image/png": "[encoded data removed]",
      "text/latex": [
       "$$\\left [ \\frac{\\pi}{15}, \\quad \\frac{\\pi}{3}\\right ]$$"
      ],
      "text/plain": [
       "⎡π   π⎤\n",
       "⎢──, ─⎥\n",
       "⎣15  3⎦"
      ]
     },
     "execution_count": 174,
     "metadata": {},
     "output_type": "execute_result"
    }
   ],
   "source": [
    "#1.1.3\n",
    "\n",
    "x=symbols('x')\n",
    "y=2*sin(5*x/2)-1\n",
    "solve(y,x)"
   ]
  },
  {
   "cell_type": "code",
   "execution_count": 175,
   "metadata": {},
   "outputs": [
    {
     "data": {
      "image/png": "[encoded data removed]",
      "text/latex": [
       "$$\\left [ 0, \\quad \\frac{2 \\pi}{5}\\right ]$$"
      ],
      "text/plain": [
       "⎡   2⋅π⎤\n",
       "⎢0, ───⎥\n",
       "⎣    5 ⎦"
      ]
     },
     "execution_count": 175,
     "metadata": {},
     "output_type": "execute_result"
    }
   ],
   "source": [
    "\n",
    "solve(sin(5*x/2))"
   ]
  },
  {
   "cell_type": "code",
   "execution_count": 176,
   "metadata": {},
   "outputs": [
    {
     "data": {
      "image/png": "[encoded data removed]",
      "text/latex": [
       "$$\\left [ 0, \\quad - \\sqrt{3} i, \\quad \\sqrt{3} i\\right ]$$"
      ],
      "text/plain": [
       "[0, -√3⋅ⅈ, √3⋅ⅈ]"
      ]
     },
     "execution_count": 176,
     "metadata": {},
     "output_type": "execute_result"
    }
   ],
   "source": [
    "#1.1.4\n",
    "\n",
    "x=symbols('x')\n",
    "y=3*x**2+1-(x**2+1)**3\n",
    "solve(y)"
   ]
  },
  {
   "cell_type": "code",
   "execution_count": 177,
   "metadata": {},
   "outputs": [
    {
     "data": {
      "image/png": "[encoded data removed]",
      "text/latex": [
       "$$\\left [ - \\frac{2 \\pi}{3}, \\quad - \\frac{\\pi}{3}, \\quad \\frac{\\pi}{3}, \\quad \\frac{2 \\pi}{3}\\right ]$$"
      ],
      "text/plain": [
       "⎡-2⋅π   -π   π  2⋅π⎤\n",
       "⎢─────, ───, ─, ───⎥\n",
       "⎣  3     3   3   3 ⎦"
      ]
     },
     "execution_count": 177,
     "metadata": {},
     "output_type": "execute_result"
    }
   ],
   "source": [
    "#1.1.5\n",
    "\n",
    "x=symbols('x')\n",
    "y=4*cot(x)*cos(x)**2-cot(x)\n",
    "solve(y)"
   ]
  },
  {
   "cell_type": "code",
   "execution_count": 178,
   "metadata": {},
   "outputs": [
    {
     "data": {
      "image/png": "[encoded data removed]",
      "text/latex": [
       "$$\\left [ \\frac{\\pi}{2}, \\quad \\frac{3 \\pi}{2}\\right ]$$"
      ],
      "text/plain": [
       "⎡π  3⋅π⎤\n",
       "⎢─, ───⎥\n",
       "⎣2   2 ⎦"
      ]
     },
     "execution_count": 178,
     "metadata": {},
     "output_type": "execute_result"
    }
   ],
   "source": [
    "solve(cos(x))"
   ]
  },
  {
   "cell_type": "code",
   "execution_count": 179,
   "metadata": {},
   "outputs": [
    {
     "data": {
      "image/png": "[encoded data removed]",
      "text/latex": [
       "$$4 \\cos{\\left (2 x \\right )}$$"
      ],
      "text/plain": [
       "4⋅cos(2⋅x)"
      ]
     },
     "execution_count": 179,
     "metadata": {},
     "output_type": "execute_result"
    }
   ],
   "source": [
    "#1.2.1\n",
    "\n",
    "f=(2*sin(2*x))\n",
    "diff(f,x)"
   ]
  },
  {
   "cell_type": "code",
   "execution_count": 180,
   "metadata": {},
   "outputs": [
    {
     "data": {
      "image/png": "[encoded data removed]",
      "text/latex": [
       "$$- \\frac{\\sin{\\left (x \\right )}}{\\cos{\\left (x + 1 \\right )}} + \\frac{\\sin{\\left (x + 1 \\right )} \\cos{\\left (x \\right )}}{\\cos^{2}{\\left (x + 1 \\right )}}$$"
      ],
      "text/plain": [
       "    sin(x)     sin(x + 1)⋅cos(x)\n",
       "- ────────── + ─────────────────\n",
       "  cos(x + 1)         2          \n",
       "                  cos (x + 1)   "
      ]
     },
     "execution_count": 180,
     "metadata": {},
     "output_type": "execute_result"
    }
   ],
   "source": [
    "#1.2.2\n",
    "\n",
    "f=cos(x)/(cos(x+1))\n",
    "diff(f,x)"
   ]
  },
  {
   "cell_type": "code",
   "execution_count": 181,
   "metadata": {},
   "outputs": [
    {
     "data": {
      "text/latex": [
       "$$- \\frac{2 x^{2}}{x^{3}{\\left (x - 1 \\right )}} \\left. \\frac{d}{d \\xi_{1}} x{\\left (\\xi_{1} \\right )} \\right|_{\\substack{ \\xi_{1}=x - 1 }} + \\frac{2 x}{x^{2}{\\left (x - 1 \\right )}}$$"
      ],
      "text/plain": [
       "     2 ⎛ d        ⎞│                    \n",
       "  2⋅x ⋅⎜───(x(ξ₁))⎟│                    \n",
       "       ⎝dξ₁       ⎠│ξ₁=x - 1      2⋅x   \n",
       "- ────────────────────────── + ─────────\n",
       "           3                    2       \n",
       "          x (x - 1)            x (x - 1)"
      ]
     },
     "execution_count": 181,
     "metadata": {},
     "output_type": "execute_result"
    }
   ],
   "source": [
    "#1.2.3\n",
    "\n",
    "f=((x**2*1)/x(x-1)**2)\n",
    "diff(f,x)"
   ]
  },
  {
   "cell_type": "code",
   "execution_count": 182,
   "metadata": {},
   "outputs": [
    {
     "data": {
      "image/png": "[encoded data removed]",
      "text/latex": [
       "$$- \\cos{\\left (2 x \\right )}$$"
      ],
      "text/plain": [
       "-cos(2⋅x)"
      ]
     },
     "execution_count": 182,
     "metadata": {},
     "output_type": "execute_result"
    }
   ],
   "source": [
    "#1.3.1\n",
    "\n",
    "f=(2*sin(2*x))\n",
    "integrate(f,x)"
   ]
  },
  {
   "cell_type": "code",
   "execution_count": 183,
   "metadata": {},
   "outputs": [
    {
     "data": {
      "image/png": "[encoded data removed]",
      "text/latex": [
       "$$\\int \\frac{\\cos{\\left (x \\right )}}{\\cos{\\left (x + 1 \\right )}}\\, dx$$"
      ],
      "text/plain": [
       "⌠              \n",
       "⎮   cos(x)     \n",
       "⎮ ────────── dx\n",
       "⎮ cos(x + 1)   \n",
       "⌡              "
      ]
     },
     "execution_count": 183,
     "metadata": {},
     "output_type": "execute_result"
    }
   ],
   "source": [
    "#1.3.2\n",
    "\n",
    "f=cos(x)/(cos(x+1))\n",
    "integrate(f,x)"
   ]
  },
  {
   "cell_type": "code",
   "execution_count": 184,
   "metadata": {},
   "outputs": [
    {
     "data": {
      "image/png": "[encoded data removed]",
      "text/latex": [
       "$$\\int \\frac{x^{2}}{x^{2}{\\left (x - 1 \\right )}}\\, dx$$"
      ],
      "text/plain": [
       "⌠             \n",
       "⎮      2      \n",
       "⎮     x       \n",
       "⎮ ───────── dx\n",
       "⎮  2          \n",
       "⎮ x (x - 1)   \n",
       "⌡             "
      ]
     },
     "execution_count": 184,
     "metadata": {},
     "output_type": "execute_result"
    }
   ],
   "source": [
    "#1.3.3\n",
    "\n",
    "f=((x**2*1)/x(x-1)**2)\n",
    "integrate(f,x)"
   ]
  },
  {
   "cell_type": "code",
   "execution_count": 185,
   "metadata": {},
   "outputs": [
    {
     "data": {
      "image/png": "[encoded data removed]",
      "text/plain": [
       "<matplotlib.figure.Figure at 0x7f42d5e7e3c8>"
      ]
     },
     "metadata": {},
     "output_type": "display_data"
    }
   ],
   "source": [
    "#1.4\n",
    "\n",
    "s= [sin(n*x)for n in range (1,4) ]\n",
    "p = plot(*s, (x, 0,10 ), legend=True, show=False)\n",
    "p[0].line_color='r'\n",
    "p[1].line_color= 'k'\n",
    "p.show()\n"
   ]
  },
  {
   "cell_type": "code",
   "execution_count": 186,
   "metadata": {},
   "outputs": [],
   "source": [
    "#2.1\n",
    "\n",
    "q,a,g,y,e,v=symbols('q,a,g,y,e,v')\n",
    "init_printing(use_unicode=True)"
   ]
  },
  {
   "cell_type": "code",
   "execution_count": 187,
   "metadata": {},
   "outputs": [],
   "source": [
    "def f(q,a,g,y):\n",
    "    return ((q**2)/(a**2*2*g))+y"
   ]
  },
  {
   "cell_type": "code",
   "execution_count": 188,
   "metadata": {},
   "outputs": [
    {
     "data": {
      "image/png": "[encoded data removed]",
      "text/latex": [
       "$$2.479638124362895$$"
      ],
      "text/plain": [
       "2.479638124362895"
      ]
     },
     "execution_count": 188,
     "metadata": {},
     "output_type": "execute_result"
    }
   ],
   "source": [
    "#2.2\n",
    "\n",
    "e=f(30,10*2.4,9.81,2.4)\n",
    "e"
   ]
  },
  {
   "cell_type": "code",
   "execution_count": 189,
   "metadata": {},
   "outputs": [
    {
     "data": {
      "image/png": "[encoded data removed]",
      "text/latex": [
       "$$2.399999999997105$$"
      ],
      "text/plain": [
       "2.399999999997105"
      ]
     },
     "execution_count": 189,
     "metadata": {},
     "output_type": "execute_result"
    }
   ],
   "source": [
    "y=2.47963812436-((30**2)/(24**2*2*9.81))\n",
    "y\n"
   ]
  },
  {
   "cell_type": "code",
   "execution_count": 190,
   "metadata": {},
   "outputs": [
    {
     "data": {
      "image/png": "[encoded data removed]",
      "text/latex": [
       "$$1 - \\frac{q^{2}}{b^{2} g y^{3}}$$"
      ],
      "text/plain": [
       "        2  \n",
       "       q   \n",
       "1 - ───────\n",
       "     2    3\n",
       "    b ⋅g⋅y "
      ]
     },
     "execution_count": 190,
     "metadata": {},
     "output_type": "execute_result"
    }
   ],
   "source": [
    "y,b=symbols('y,b')\n",
    "f(q,b*y,g,y)\n",
    "x=diff(f(q,b*y,g,y),y)\n",
    "x"
   ]
  },
  {
   "cell_type": "code",
   "execution_count": 191,
   "metadata": {},
   "outputs": [
    {
     "data": {
      "image/png": "[encoded data removed]",
      "text/latex": [
       "$$- 7.37390040397176 \\cdot 10^{-5} q^{2} + 1$$"
      ],
      "text/plain": [
       "                       2    \n",
       "- 7.37390040397176e-5⋅q  + 1"
      ]
     },
     "execution_count": 191,
     "metadata": {},
     "output_type": "execute_result"
    }
   ],
   "source": [
    "\n",
    "x.subs({Q:30,b:10,g:9.81,y:2.4})"
   ]
  },
  {
   "cell_type": "code",
   "execution_count": null,
   "metadata": {
    "collapsed": true
   },
   "outputs": [],
   "source": []
  },
  {
   "cell_type": "code",
   "execution_count": null,
   "metadata": {
    "collapsed": true
   },
   "outputs": [],
   "source": []
  },
  {
   "cell_type": "code",
   "execution_count": null,
   "metadata": {
    "collapsed": true
   },
   "outputs": [],
   "source": []
  },
  {
   "cell_type": "code",
   "execution_count": null,
   "metadata": {
    "collapsed": true
   },
   "outputs": [],
   "source": []
  },
  {
   "cell_type": "code",
   "execution_count": null,
   "metadata": {
    "collapsed": true
   },
   "outputs": [],
   "source": []
  },
  {
   "cell_type": "code",
   "execution_count": 192,
   "metadata": {
    "collapsed": true
   },
   "outputs": [],
   "source": [
    "#3.1\n",
    "\n",
    "x1,x2,x3,x4=symbols('x1,x2,x3,x4')"
   ]
  },
  {
   "cell_type": "code",
   "execution_count": 193,
   "metadata": {},
   "outputs": [
    {
     "data": {
      "text/latex": [
       "$$\\left ( \\left[\\begin{matrix}1 & 2 & 3 & 4\\\\0 & -1 & 1 & -1\\\\2 & 0 & 3 & 0\\\\1 & 2 & 2 & 0\\end{matrix}\\right], \\quad \\left ( 4, \\quad 4\\right )\\right )$$"
      ],
      "text/plain": [
       "⎛⎡1  2   3  4 ⎤        ⎞\n",
       "⎜⎢            ⎥        ⎟\n",
       "⎜⎢0  -1  1  -1⎥        ⎟\n",
       "⎜⎢            ⎥, (4, 4)⎟\n",
       "⎜⎢2  0   3  0 ⎥        ⎟\n",
       "⎜⎢            ⎥        ⎟\n",
       "⎝⎣1  2   2  0 ⎦        ⎠"
      ]
     },
     "execution_count": 193,
     "metadata": {},
     "output_type": "execute_result"
    }
   ],
   "source": [
    "A=Matrix([[1,2,3,4],[0,-1,1,-1],[2,0,3,0],[1,2,2,0]])\n",
    "A,A.shape"
   ]
  },
  {
   "cell_type": "code",
   "execution_count": 194,
   "metadata": {},
   "outputs": [
    {
     "data": {
      "text/latex": [
       "$$\\left ( \\left[\\begin{matrix}x_{1}\\\\x_{2}\\\\x_{3}\\\\x_{4}\\end{matrix}\\right], \\quad \\left ( 4, \\quad 1\\right )\\right )$$"
      ],
      "text/plain": [
       "⎛⎡x₁⎤        ⎞\n",
       "⎜⎢  ⎥        ⎟\n",
       "⎜⎢x₂⎥        ⎟\n",
       "⎜⎢  ⎥, (4, 1)⎟\n",
       "⎜⎢x₃⎥        ⎟\n",
       "⎜⎢  ⎥        ⎟\n",
       "⎝⎣x₄⎦        ⎠"
      ]
     },
     "execution_count": 194,
     "metadata": {},
     "output_type": "execute_result"
    }
   ],
   "source": [
    "X=Matrix([[x1],[x2],[x3],[x4]])\n",
    "X,X.shape"
   ]
  },
  {
   "cell_type": "code",
   "execution_count": 195,
   "metadata": {},
   "outputs": [
    {
     "data": {
      "text/latex": [
       "$$\\left ( \\left[\\begin{matrix}25\\\\7\\\\17\\\\20\\end{matrix}\\right], \\quad \\left ( 4, \\quad 1\\right )\\right )$$"
      ],
      "text/plain": [
       "⎛⎡25⎤        ⎞\n",
       "⎜⎢  ⎥        ⎟\n",
       "⎜⎢7 ⎥        ⎟\n",
       "⎜⎢  ⎥, (4, 1)⎟\n",
       "⎜⎢17⎥        ⎟\n",
       "⎜⎢  ⎥        ⎟\n",
       "⎝⎣20⎦        ⎠"
      ]
     },
     "execution_count": 195,
     "metadata": {},
     "output_type": "execute_result"
    }
   ],
   "source": [
    "B=Matrix([[25],[7],[17],[20]])\n",
    "B,B.shape"
   ]
  },
  {
   "cell_type": "code",
   "execution_count": 196,
   "metadata": {},
   "outputs": [
    {
     "data": {
      "text/latex": [
       "$$\\left[\\begin{matrix}- \\frac{11}{2}\\\\\\frac{41}{12}\\\\\\frac{28}{3}\\\\- \\frac{13}{12}\\end{matrix}\\right]$$"
      ],
      "text/plain": [
       "⎡-11/2⎤\n",
       "⎢     ⎥\n",
       "⎢ 41  ⎥\n",
       "⎢ ──  ⎥\n",
       "⎢ 12  ⎥\n",
       "⎢     ⎥\n",
       "⎢28/3 ⎥\n",
       "⎢     ⎥\n",
       "⎢-13  ⎥\n",
       "⎢──── ⎥\n",
       "⎣ 12  ⎦"
      ]
     },
     "execution_count": 196,
     "metadata": {},
     "output_type": "execute_result"
    }
   ],
   "source": [
    "X=A.inv()*B\n",
    "X"
   ]
  },
  {
   "cell_type": "code",
   "execution_count": 197,
   "metadata": {},
   "outputs": [
    {
     "data": {
      "image/png": "[encoded data removed]",
      "text/latex": [
       "$$\\left\\{\\left ( - \\frac{13}{12}, \\quad \\frac{28}{3}, \\quad \\frac{41}{12}, \\quad - \\frac{11}{2}\\right )\\right\\}$$"
      ],
      "text/plain": [
       "⎧⎛-13         41       ⎞⎫\n",
       "⎨⎜────, 28/3, ──, -11/2⎟⎬\n",
       "⎩⎝ 12         12       ⎠⎭"
      ]
     },
     "execution_count": 197,
     "metadata": {},
     "output_type": "execute_result"
    }
   ],
   "source": [
    "eq1=Eq(4*x1+3*x2+2*x3+x4,25)\n",
    "eq2=Eq(-x3+x2-x1,7)\n",
    "eq3=Eq(2*x4+3*x2,17)\n",
    "eq4=Eq(x4+2*x2+2*x3,20)\n",
    "linsolve([eq1,eq2,eq3,eq4],(x1,x2,x3,x4))"
   ]
  },
  {
   "cell_type": "code",
   "execution_count": 198,
   "metadata": {},
   "outputs": [
    {
     "data": {
      "image/png": "[encoded data removed]",
      "text/latex": [
       "$$- t^{2} \\left(4 t - 4\\right) + 6 t^{2} + 9 t \\left(t - 1\\right) - 13 t$$"
      ],
      "text/plain": [
       "   2                2                     \n",
       "- t ⋅(4⋅t - 4) + 6⋅t  + 9⋅t⋅(t - 1) - 13⋅t"
      ]
     },
     "execution_count": 198,
     "metadata": {},
     "output_type": "execute_result"
    }
   ],
   "source": [
    "#3.2\n",
    "\n",
    "t=symbols('t')\n",
    "a=Matrix([[1,4,t],[t-1,6,t],[2,9,t**2]])\n",
    "a.det()"
   ]
  },
  {
   "cell_type": "code",
   "execution_count": 199,
   "metadata": {},
   "outputs": [
    {
     "data": {
      "image/png": "[encoded data removed]",
      "text/latex": [
       "$$\\left [ 0, \\quad 2, \\quad \\frac{11}{4}\\right ]$$"
      ],
      "text/plain": [
       "[0, 2, 11/4]"
      ]
     },
     "execution_count": 199,
     "metadata": {},
     "output_type": "execute_result"
    }
   ],
   "source": [
    "solve(a.det(),t)"
   ]
  },
  {
   "cell_type": "code",
   "execution_count": 200,
   "metadata": {},
   "outputs": [
    {
     "name": "stdout",
     "output_type": "stream",
     "text": [
      "Matrix([[1, 2, 3], [1, 1, 6], [1, 2, 5]])\n"
     ]
    }
   ],
   "source": [
    "#3.3\n",
    "\n",
    "a=Matrix([[1,2,3],[1,1,6],[1,2,5]])\n",
    "print(a)"
   ]
  },
  {
   "cell_type": "code",
   "execution_count": 201,
   "metadata": {},
   "outputs": [
    {
     "name": "stdout",
     "output_type": "stream",
     "text": [
      "{-1: 1, -sqrt(14) + 4: 1, sqrt(14) + 4: 1}\n"
     ]
    }
   ],
   "source": [
    "c=a.eigenvals()\n",
    "print(c)"
   ]
  },
  {
   "cell_type": "code",
   "execution_count": 202,
   "metadata": {},
   "outputs": [
    {
     "data": {
      "image/png": "[encoded data removed]",
      "text/latex": [
       "$$- \\sqrt{14} + 10.7416573867739$$"
      ],
      "text/plain": [
       "-√14 + 10.7416573867739"
      ]
     },
     "execution_count": 202,
     "metadata": {},
     "output_type": "execute_result"
    }
   ],
   "source": [
    "-1+(4-sqrt(14))+(4+sqrt(14)).evalf()"
   ]
  },
  {
   "cell_type": "code",
   "execution_count": 203,
   "metadata": {},
   "outputs": [
    {
     "data": {
      "image/png": "[encoded data removed]",
      "text/latex": [
       "$$-30.9666295470958 + 7.74165738677394 \\sqrt{14}$$"
      ],
      "text/plain": [
       "-30.9666295470958 + 7.74165738677394⋅√14"
      ]
     },
     "execution_count": 203,
     "metadata": {},
     "output_type": "execute_result"
    }
   ],
   "source": [
    "((-1)*(4-sqrt(14))*(4+sqrt(14)).evalf()).simplify()"
   ]
  },
  {
   "cell_type": "code",
   "execution_count": 204,
   "metadata": {},
   "outputs": [
    {
     "data": {
      "text/latex": [
       "$$\\left [ \\left ( -1, \\quad 1, \\quad \\left [ \\left[\\begin{matrix}3\\\\- \\frac{9}{2}\\\\1\\end{matrix}\\right]\\right ]\\right ), \\quad \\left ( - \\sqrt{14} + 4, \\quad 1, \\quad \\left [ \\left[\\begin{matrix}- \\frac{- 12 \\sqrt{14} + 3 \\left(-3 + \\sqrt{14}\\right)^{2} + 36}{\\left(-3 + \\sqrt{14}\\right) \\left(-2 + \\left(-3 + \\sqrt{14}\\right)^{2}\\right)}\\\\- \\frac{-21 + 6 \\sqrt{14}}{-2 + \\left(-3 + \\sqrt{14}\\right)^{2}}\\\\1\\end{matrix}\\right]\\right ]\\right ), \\quad \\left ( \\sqrt{14} + 4, \\quad 1, \\quad \\left [ \\left[\\begin{matrix}- \\frac{36 + 12 \\sqrt{14} + 3 \\left(- \\sqrt{14} - 3\\right)^{2}}{\\left(-2 + \\left(- \\sqrt{14} - 3\\right)^{2}\\right) \\left(- \\sqrt{14} - 3\\right)}\\\\- \\frac{- 6 \\sqrt{14} - 21}{-2 + \\left(- \\sqrt{14} - 3\\right)^{2}}\\\\1\\end{matrix}\\right]\\right ]\\right )\\right ]$$"
      ],
      "text/plain": [
       "⎡                   ⎛             ⎡⎡ ⎛                      2     ⎞ ⎤⎤⎞  ⎛    \n",
       "⎢                   ⎜             ⎢⎢-⎝-12⋅√14 + 3⋅(-3 + √14)  + 36⎠ ⎥⎥⎟  ⎜    \n",
       "⎢                   ⎜             ⎢⎢────────────────────────────────⎥⎥⎟  ⎜    \n",
       "⎢                   ⎜             ⎢⎢            ⎛               2⎞  ⎥⎥⎟  ⎜    \n",
       "⎢⎛       ⎡⎡ 3  ⎤⎤⎞  ⎜             ⎢⎢ (-3 + √14)⋅⎝-2 + (-3 + √14) ⎠  ⎥⎥⎟  ⎜    \n",
       "⎢⎜       ⎢⎢    ⎥⎥⎟  ⎜             ⎢⎢                                ⎥⎥⎟  ⎜    \n",
       "⎢⎜-1, 1, ⎢⎢-9/2⎥⎥⎟, ⎜-√14 + 4, 1, ⎢⎢        -(-21 + 6⋅√14)          ⎥⎥⎟, ⎜√14 \n",
       "⎢⎜       ⎢⎢    ⎥⎥⎟  ⎜             ⎢⎢        ────────────────        ⎥⎥⎟  ⎜    \n",
       "⎢⎝       ⎣⎣ 1  ⎦⎦⎠  ⎜             ⎢⎢                       2        ⎥⎥⎟  ⎜    \n",
       "⎢                   ⎜             ⎢⎢        -2 + (-3 + √14)         ⎥⎥⎟  ⎜    \n",
       "⎢                   ⎜             ⎢⎢                                ⎥⎥⎟  ⎜    \n",
       "⎣                   ⎝             ⎣⎣               1                ⎦⎦⎠  ⎝    \n",
       "\n",
       "        ⎡⎡ ⎛                          2⎞ ⎤⎤⎞⎤\n",
       "        ⎢⎢-⎝36 + 12⋅√14 + 3⋅(-√14 - 3) ⎠ ⎥⎥⎟⎥\n",
       "        ⎢⎢───────────────────────────────⎥⎥⎟⎥\n",
       "        ⎢⎢ ⎛               2⎞            ⎥⎥⎟⎥\n",
       "        ⎢⎢ ⎝-2 + (-√14 - 3) ⎠⋅(-√14 - 3) ⎥⎥⎟⎥\n",
       "        ⎢⎢                               ⎥⎥⎟⎥\n",
       "+ 4, 1, ⎢⎢       -(-6⋅√14 - 21)          ⎥⎥⎟⎥\n",
       "        ⎢⎢       ────────────────        ⎥⎥⎟⎥\n",
       "        ⎢⎢                      2        ⎥⎥⎟⎥\n",
       "        ⎢⎢       -2 + (-√14 - 3)         ⎥⎥⎟⎥\n",
       "        ⎢⎢                               ⎥⎥⎟⎥\n",
       "        ⎣⎣               1               ⎦⎦⎠⎦"
      ]
     },
     "execution_count": 204,
     "metadata": {},
     "output_type": "execute_result"
    }
   ],
   "source": [
    "\n",
    "a.eigenvects()"
   ]
  },
  {
   "cell_type": "code",
   "execution_count": 205,
   "metadata": {},
   "outputs": [
    {
     "data": {
      "image/png": "[encoded data removed]",
      "text/latex": [
       "$$7$$"
      ],
      "text/plain": [
       "7"
      ]
     },
     "execution_count": 205,
     "metadata": {},
     "output_type": "execute_result"
    }
   ],
   "source": [
    "a.trace()"
   ]
  },
  {
   "cell_type": "code",
   "execution_count": 206,
   "metadata": {},
   "outputs": [
    {
     "data": {
      "image/png": "[encoded data removed]",
      "text/latex": [
       "$$-2$$"
      ],
      "text/plain": [
       "-2"
      ]
     },
     "execution_count": 206,
     "metadata": {},
     "output_type": "execute_result"
    }
   ],
   "source": [
    "a.det()"
   ]
  },
  {
   "cell_type": "code",
   "execution_count": 207,
   "metadata": {},
   "outputs": [
    {
     "data": {
      "image/png": "[encoded data removed]",
      "text/latex": [
       "$$3$$"
      ],
      "text/plain": [
       "3"
      ]
     },
     "execution_count": 207,
     "metadata": {},
     "output_type": "execute_result"
    }
   ],
   "source": [
    "a.rank()"
   ]
  },
  {
   "cell_type": "code",
   "execution_count": null,
   "metadata": {
    "collapsed": true
   },
   "outputs": [],
   "source": []
  },
  {
   "cell_type": "code",
   "execution_count": null,
   "metadata": {
    "collapsed": true
   },
   "outputs": [],
   "source": []
  },
  {
   "cell_type": "code",
   "execution_count": null,
   "metadata": {
    "collapsed": true
   },
   "outputs": [],
   "source": []
  },
  {
   "cell_type": "code",
   "execution_count": null,
   "metadata": {
    "collapsed": true
   },
   "outputs": [],
   "source": []
  }
 ],
 "metadata": {
  "kernelspec": {
   "display_name": "Python 3",
   "language": "python",
   "name": "python3"
  },
  "language_info": {
   "codemirror_mode": {
    "name": "ipython",
    "version": 3
   },
   "file_extension": ".py",
   "mimetype": "text/x-python",
   "name": "python",
   "nbconvert_exporter": "python",
   "pygments_lexer": "ipython3",
   "version": "3.6.1"
  }
 },
 "nbformat": 4,
 "nbformat_minor": 2
}
